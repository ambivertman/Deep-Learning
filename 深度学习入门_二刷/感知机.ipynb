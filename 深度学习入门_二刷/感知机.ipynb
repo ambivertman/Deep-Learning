{
 "cells": [
  {
   "cell_type": "code",
   "execution_count": 1,
   "id": "f57bf206",
   "metadata": {},
   "outputs": [
    {
     "ename": "SyntaxError",
     "evalue": "invalid syntax. Perhaps you forgot a comma? (2065350493.py, line 6)",
     "output_type": "error",
     "traceback": [
      "\u001b[1;36m  Cell \u001b[1;32mIn[1], line 6\u001b[1;36m\u001b[0m\n\u001b[1;33m    output = list(map(lambda:param func(*param),params))\u001b[0m\n\u001b[1;37m                             ^\u001b[0m\n\u001b[1;31mSyntaxError\u001b[0m\u001b[1;31m:\u001b[0m invalid syntax. Perhaps you forgot a comma?\n"
     ]
    }
   ],
   "source": [
    "import numpy as np\n",
    "# 定义感知机的输出函数\n",
    "def output_gate(func):\n",
    "    params = [(0,0), (1,0), (0,1), (1,1)]\n",
    "    #output = [func(*param) for param in params]\n",
    "    output = list(map(lambda:param func(*param),params))\n",
    "    return output"
   ]
  },
  {
   "cell_type": "markdown",
   "id": "c67fd0ad",
   "metadata": {},
   "source": [
    "# 感知机数学模型\n",
    "$y=\\begin{cases}0,&w1*x1+w2*x2\\leq\\theta\\\\1,&w1*x1+w2*x2>\\theta\\end{cases}$"
   ]
  },
  {
   "cell_type": "markdown",
   "id": "42220f40",
   "metadata": {},
   "source": [
    "# 与门模型\n",
    "<img src=\"https://picstore-of-ambi.oss-cn-shanghai.aliyuncs.com/img/20240430193610.png\" alt=\"image.png\" style=\"float: left;\">"
   ]
  },
  {
   "cell_type": "code",
   "execution_count": null,
   "id": "c1b4c678",
   "metadata": {},
   "outputs": [],
   "source": [
    "def AND(x1,x2):\n",
    "    W = np.array([0.5, 0.5])\n",
    "    X = np.array([x1, x2])\n",
    "    theta = -0.5\n",
    "    y = np.sum(W*X)+theta\n",
    "    \n",
    "    if y > 0:\n",
    "        return 1\n",
    "    else:\n",
    "        return 0"
   ]
  },
  {
   "cell_type": "code",
   "execution_count": null,
   "id": "9e2373e2",
   "metadata": {},
   "outputs": [],
   "source": [
    "print(output_gate(AND))"
   ]
  },
  {
   "cell_type": "markdown",
   "id": "887d2d16",
   "metadata": {},
   "source": [
    "# 与非门\n",
    "<img src=\"https://picstore-of-ambi.oss-cn-shanghai.aliyuncs.com/img/20240430221701.png\" alt=\"image.png\" style=\"float: left;\">"
   ]
  },
  {
   "cell_type": "code",
   "execution_count": null,
   "id": "5af4b8b0",
   "metadata": {},
   "outputs": [],
   "source": [
    "def NAND(x1,x2):\n",
    "    W = np.array([0.5, 0.5])\n",
    "    X = np.array([x1, x2])\n",
    "    theta = -0.5\n",
    "    y = np.sum(W*X)+theta\n",
    "    \n",
    "    if y <= 0:\n",
    "        return 1\n",
    "    else:\n",
    "        return 0\n",
    "\n",
    "print(output_gate(NAND))"
   ]
  },
  {
   "cell_type": "markdown",
   "id": "bfcc0603",
   "metadata": {},
   "source": [
    "# 或门\n",
    "<img src=\"https://picstore-of-ambi.oss-cn-shanghai.aliyuncs.com/img/20240502190248.png\" alt=\"image.png\" style=\"float: left;\">"
   ]
  },
  {
   "cell_type": "code",
   "execution_count": null,
   "id": "46ed2ce3",
   "metadata": {},
   "outputs": [],
   "source": [
    "def OR(x1, x2):\n",
    "    W = np.array([0.5, 0.5])\n",
    "    X = np.array([x1, x2])\n",
    "    theta = -0.5\n",
    "    y = np.sum(W*X)+theta\n",
    "    \n",
    "    if y < 0:\n",
    "        return 0\n",
    "    else:\n",
    "        return 1\n",
    "    \n",
    "print(output_gate(OR))"
   ]
  },
  {
   "cell_type": "markdown",
   "id": "4013a942",
   "metadata": {},
   "source": [
    "# 异或门\n",
    "<img src=\"https://picstore-of-ambi.oss-cn-shanghai.aliyuncs.com/img/20240502192022.png\" alt=\"image.png\" style=\"float: left;\">\n",
    "<img src=\"https://picstore-of-ambi.oss-cn-shanghai.aliyuncs.com/img/20240502191551.png\" alt=\"image.png\" style=\"float: left;\">\n",
    "<img src=\"https://picstore-of-ambi.oss-cn-shanghai.aliyuncs.com/img/20240502191751.png\" alt=\"image.png\" style=\"float: left;\">"
   ]
  },
  {
   "cell_type": "code",
   "execution_count": null,
   "id": "bf90d050",
   "metadata": {},
   "outputs": [],
   "source": [
    "def XOR(x1, x2):\n",
    "    X = np.array([x1, x2])\n",
    "    layer1 = np.array([NAND(*X),OR(*X)])\n",
    "    return AND(*layer1)\n",
    "\n",
    "print(output_gate(XOR))"
   ]
  },
  {
   "cell_type": "code",
   "execution_count": null,
   "id": "01f893b1",
   "metadata": {},
   "outputs": [],
   "source": []
  }
 ],
 "metadata": {
  "kernelspec": {
   "display_name": "Python 3 (ipykernel)",
   "language": "python",
   "name": "python3"
  },
  "language_info": {
   "codemirror_mode": {
    "name": "ipython",
    "version": 3
   },
   "file_extension": ".py",
   "mimetype": "text/x-python",
   "name": "python",
   "nbconvert_exporter": "python",
   "pygments_lexer": "ipython3",
   "version": "3.11.5"
  }
 },
 "nbformat": 4,
 "nbformat_minor": 5
}
