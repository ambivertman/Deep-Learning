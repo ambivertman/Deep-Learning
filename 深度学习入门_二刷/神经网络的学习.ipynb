{
 "cells": [
  {
   "cell_type": "code",
   "execution_count": 1,
   "id": "6a666b74",
   "metadata": {},
   "outputs": [],
   "source": [
    "import numpy as np\n",
    "from dataset.mnist import load_mnist\n",
    "from common.functions import softmax"
   ]
  },
  {
   "cell_type": "markdown",
   "id": "d58fc2fb",
   "metadata": {},
   "source": [
    "# 交叉熵误差\n",
    "$E=-\\Sigma t_k log(y_K)$"
   ]
  },
  {
   "cell_type": "code",
   "execution_count": 2,
   "id": "86134820",
   "metadata": {},
   "outputs": [],
   "source": [
    "def cross_entropy_error(y, t):\n",
    "    delta = 1e-7 # 保护机制, 防止log0\n",
    "    if y.ndim == 1:\n",
    "        t = t.reshape(1, t.size)\n",
    "        y = y.reshape(1, y.size)\n",
    "        \n",
    "    #这里reshape的作用是计算单个数据使得batch_size=1\n",
    "    batch_size = y.shape[0]\n",
    "    return -np.sum(t*np.log(y + delta))/batch_size"
   ]
  },
  {
   "cell_type": "markdown",
   "id": "3d85df5e",
   "metadata": {},
   "source": [
    "# mini-batch\n",
    "\n",
    "使用训练数据进行学习，严格来说， 就是针对训练数据计算损失函数的值，找出使该值尽可能小的参数\n",
    "\n",
    "如果以全部数据为对象 求损失函数的和，则计算过程需要花费较长的时间\n",
    "\n",
    "我们从全部数据中选出一部分，作为全部数据的近似。神经网络的学习也是从训练数据中选出一批数据（称为 mini-batch, 小 批量），然后对每个 mini-batch 进行学习"
   ]
  },
  {
   "cell_type": "code",
   "execution_count": 3,
   "id": "96152095",
   "metadata": {},
   "outputs": [],
   "source": [
    "(x_train, t_train), (x_test, t_test) = \\\n",
    "load_mnist(normalize=True, one_hot_label=True)\n",
    "\n",
    "train_size = x_train.shape[0]\n",
    "batch_size = 10\n",
    "batch_mask = np.random.choice(train_size, batch_size)\n",
    "x_batch = x_train[batch_mask]\n",
    "t_batch = t_train[batch_mask]"
   ]
  },
  {
   "cell_type": "markdown",
   "id": "5e385417",
   "metadata": {},
   "source": [
    "# 梯度的计算\n"
   ]
  },
  {
   "cell_type": "code",
   "execution_count": 4,
   "id": "18090e81",
   "metadata": {},
   "outputs": [],
   "source": [
    "def numerical_gradient(f, x):\n",
    "    h = 1e-4\n",
    "    grad = np.zeros_like(x)\n",
    "    \n",
    "    for idx in range(x.size):\n",
    "        tmp_val = x[idx]\n",
    "        # x[idx]逐个求偏导\n",
    "        #f(x+h)\n",
    "        x[idx] = tmp_val + h\n",
    "        fxh1 = f(x)\n",
    "        #(fx-h)\n",
    "        x[idx] = tmp_val - h\n",
    "        fxh2 = f(x)\n",
    "        \n",
    "        grad[idx] = (fxh1-fxh2) / 2*h\n",
    "        x[idx] = tmp_val\n",
    "        \n",
    "    return grad"
   ]
  },
  {
   "cell_type": "code",
   "execution_count": 5,
   "id": "2cc4e81e",
   "metadata": {},
   "outputs": [
    {
     "data": {
      "text/plain": [
       "array([6.e-08, 0.e+00])"
      ]
     },
     "execution_count": 5,
     "metadata": {},
     "output_type": "execute_result"
    }
   ],
   "source": [
    "def function_2(x):\n",
    "    # x[0]**2 + x[1]**2\n",
    "    return np.sum(x**2)\n",
    "\n",
    "numerical_gradient(function_2, np.array([3.0,0.0]))"
   ]
  },
  {
   "cell_type": "markdown",
   "id": "195fb788",
   "metadata": {},
   "source": [
    "# 梯度下降"
   ]
  },
  {
   "cell_type": "code",
   "execution_count": 6,
   "id": "a8072a73",
   "metadata": {},
   "outputs": [],
   "source": [
    "def gradient_descent(f, init_x, lr=0.01, step_num=100):\n",
    "    x = init_x\n",
    "    \n",
    "    for i in range(step_num):\n",
    "        grad =  numerical_gradient(f, x)\n",
    "        x -= lr * grad\n",
    "        \n",
    "    return x"
   ]
  },
  {
   "cell_type": "code",
   "execution_count": 7,
   "id": "9bdcb478",
   "metadata": {},
   "outputs": [
    {
     "data": {
      "text/plain": [
       "array([-2.99999994,  3.99999992])"
      ]
     },
     "execution_count": 7,
     "metadata": {},
     "output_type": "execute_result"
    }
   ],
   "source": [
    "init_x = np.array([-3.0, 4.0])\n",
    "gradient_descent(function_2, init_x)"
   ]
  },
  {
   "cell_type": "markdown",
   "id": "7b3cecd0",
   "metadata": {},
   "source": [
    "# 利用梯度下降更新参数"
   ]
  },
  {
   "cell_type": "code",
   "execution_count": 8,
   "id": "49790f8d",
   "metadata": {},
   "outputs": [],
   "source": [
    "class simpleNet: \n",
    "    def __init__(self): \n",
    "        self.W = np.random.randn(2,3) # 用高斯分布进行初始化 \n",
    "        \n",
    "    def forward(self, x): \n",
    "        return np.dot(x, self.W) \n",
    "    \n",
    "    def loss(self, x, t): \n",
    "        z = self.forward(x) \n",
    "        y = softmax(z) \n",
    "        loss = cross_entropy_error(y, t) \n",
    "        return loss"
   ]
  },
  {
   "cell_type": "code",
   "execution_count": 9,
   "id": "f2d06882",
   "metadata": {},
   "outputs": [
    {
     "name": "stdout",
     "output_type": "stream",
     "text": [
      "[[ 0.54723815  0.08474908  1.57724636]\n",
      " [-0.0137255   2.69455166  1.42053325]]\n",
      "[0.31598994 2.47594594 2.22482774]\n"
     ]
    },
    {
     "data": {
      "text/plain": [
       "0.8894184923102554"
      ]
     },
     "execution_count": 9,
     "metadata": {},
     "output_type": "execute_result"
    }
   ],
   "source": [
    "net = simpleNet()\n",
    "print(net.W)\n",
    "x = np.array([0.6, 0.9])\n",
    "p = net.forward(x)\n",
    "print(p)\n",
    "t = np.array([0, 0, 1])\n",
    "net.loss(x, t)"
   ]
  },
  {
   "cell_type": "markdown",
   "id": "093514f1",
   "metadata": {},
   "source": [
    "## 神经网络的学习步骤\n",
    "1. mini-batch \n",
    "> 以部分代整体, 目的是减小mini-batch 的loss\n",
    "2. 计算梯度\n",
    "> 计算mini-batch上各权重的梯度\n",
    "3. 梯度下降, 更新参数(迭代)\n",
    "> x -= lr*grad "
   ]
  },
  {
   "cell_type": "code",
   "execution_count": 1,
   "id": "b9f6b1f9",
   "metadata": {},
   "outputs": [],
   "source": [
    "import numpy as np\n",
    "from dataset.mnist import load_mnist\n",
    "from common.functions import *\n",
    "from common.gradient import numerical_gradient\n",
    "\n",
    "\n",
    "class TwoLayerNet:\n",
    "    def __init__(self, input_size, hidden_size, output_size, weight_init_std=0.01):\n",
    "        self.params = {}\n",
    "        self.params['W1'] = weight_init_std*np.random.randn(input_size, hidden_size)\n",
    "        self.params['W2'] = weight_init_std*np.random.randn(hidden_size, output_size)\n",
    "        self.params['b1'] = weight_init_std*np.random.randn(hidden_size)\n",
    "        self.params['b2'] = weight_init_std*np.random.randn(output_size)\n",
    "        \n",
    "    def forward(self, inputs):\n",
    "        W1, W2 = self.params['W1'], self.params['W2']\n",
    "        b1, b2 = self.params['b1'], self.params['b2']\n",
    "        \n",
    "        a1 = np.dot(inputs, W1) + b1\n",
    "        z1 = sigmoid(a1)\n",
    "        a2 = np.dot(z1, W2) + b2\n",
    "        y = softmax(a2)\n",
    "        \n",
    "        return y\n",
    "    \n",
    "    def loss(self, inputs, targets):\n",
    "        y = self.forward(inputs)\n",
    "        \n",
    "        return cross_entropy_error(y, targets)\n",
    "    \n",
    "    def accuracy(self, inputs, targets):\n",
    "        y = self.forward(inputs)\n",
    "        y = np.argmax(y, axis=1)\n",
    "        t = np.argmax(targets, axis=1)\n",
    "        \n",
    "        return np.sum(t == y) / float(inputs.shape[0])\n",
    "    \n",
    "    def numerical_gradient(self, inputs, targets):\n",
    "        loss_W = lambda W: self.loss(inputs, targets)\n",
    "        \n",
    "        grads = {}\n",
    "        \n",
    "        grads['W1'] = numerical_gradient(loss_W, self.params['W1'])\n",
    "        grads['W2'] = numerical_gradient(loss_W, self.params['W2'])\n",
    "        grads['b1'] = numerical_gradient(loss_W, self.params['b1']) \n",
    "        grads['b2'] = numerical_gradient(loss_W, self.params['b2'])\n",
    "        \n",
    "        return grads"
   ]
  },
  {
   "cell_type": "code",
   "execution_count": 2,
   "id": "4a16e583",
   "metadata": {},
   "outputs": [
    {
     "name": "stdout",
     "output_type": "stream",
     "text": [
      "(784, 100)\n",
      "(100,)\n",
      "(100, 10)\n",
      "(10,)\n"
     ]
    }
   ],
   "source": [
    "net = TwoLayerNet(784, 100, 10)\n",
    "net.params['W1'].shape # (784, 100) \n",
    "print(net.params['W1'].shape) # (784, 100) \n",
    "print(net.params['b1'].shape) # (100,) \n",
    "print(net.params['W2'].shape) # (100, 10) \n",
    "print(net.params['b2'].shape) # (10,)"
   ]
  },
  {
   "cell_type": "code",
   "execution_count": null,
   "id": "d9d46240",
   "metadata": {},
   "outputs": [],
   "source": [
    "train_loss_list = []\n",
    "# train_acc_list = []\n",
    "# test_acc_list = []\n",
    "\n",
    "(x_train, t_train), (x_test, t_test)= \\\n",
    "load_mnist(normalize=True, one_hot_label=True)\n",
    "\n",
    "# 每个epoch的重复次数\n",
    "# iter_per_epoch = max(train_size / batch_size, 1)\n",
    "\n",
    "iters_num = 10000\n",
    "train_size = x_train.shape[0]\n",
    "batch_size = 10000\n",
    "lr = 0.1\n",
    "for i in range(iters_num):\n",
    "    # mini-batch\n",
    "    batch_mask = np.random.choice(train_size, batch_size)\n",
    "    x_batch = x_train[batch_mask]\n",
    "    t_batch = t_train[batch_mask]\n",
    "    \n",
    "    #计算梯度\n",
    "    #net的numerical_gradient方法是各参数numerical_gradient的组合\n",
    "    grad = net.numerical_gradient(x_batch, t_batch)\n",
    "    \n",
    "    #更新参数\n",
    "    for key in ('W1', 'b1', 'W2', 'b2'):\n",
    "        net.params[key] -= lr*grad[key]\n",
    "        \n",
    "    loss = net.loss(x_batch, t_batch)\n",
    "    train_loss_list.append(loss)\n",
    "    #计算每个epoch的识别精度\n",
    "#     if 1 % iter_per_epoch == 0:\n",
    "#         train_acc = network.accuracy(x_train, t_train) \n",
    "#         test_acc = network.accuracy(x_test, t_test) \n",
    "#         train_acc_list.append(train_acc) \n",
    "#         test_acc_list.append(test_acc) \n",
    "#         print(\"train acc, test acc | \" + str(train_acc) + \", \" + str(test_acc))"
   ]
  }
 ],
 "metadata": {
  "kernelspec": {
   "display_name": "Python 3 (ipykernel)",
   "language": "python",
   "name": "python3"
  },
  "language_info": {
   "codemirror_mode": {
    "name": "ipython",
    "version": 3
   },
   "file_extension": ".py",
   "mimetype": "text/x-python",
   "name": "python",
   "nbconvert_exporter": "python",
   "pygments_lexer": "ipython3",
   "version": "3.11.5"
  }
 },
 "nbformat": 4,
 "nbformat_minor": 5
}
