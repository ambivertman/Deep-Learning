{
 "cells": [
  {
   "cell_type": "code",
   "execution_count": 1,
   "id": "6a666b74",
   "metadata": {},
   "outputs": [],
   "source": [
    "import numpy as np\n",
    "from dataset.mnist import load_mnist\n",
    "from common.functions import softmax"
   ]
  },
  {
   "cell_type": "markdown",
   "id": "d58fc2fb",
   "metadata": {},
   "source": [
    "# 交叉熵误差\n",
    "$E=-\\Sigma t_k log(y_K)$"
   ]
  },
  {
   "cell_type": "code",
   "execution_count": 2,
   "id": "86134820",
   "metadata": {},
   "outputs": [],
   "source": [
    "def cross_entropy_error(y, t):\n",
    "    delta = 1e-7 # 保护机制, 防止log0\n",
    "    if y.ndim == 1:\n",
    "        t = t.reshape(1, t.size)\n",
    "        y = y.reshape(1, y.size)\n",
    "        \n",
    "    #这里reshape的作用是计算单个数据使得batch_size=1\n",
    "    batch_size = y.shape[0]\n",
    "    return -np.sum(t*np.log(y + delta))/batch_size"
   ]
  },
  {
   "cell_type": "markdown",
   "id": "3d85df5e",
   "metadata": {},
   "source": [
    "# mini-batch\n",
    "\n",
    "使用训练数据进行学习，严格来说， 就是针对训练数据计算损失函数的值，找出使该值尽可能小的参数\n",
    "\n",
    "如果以全部数据为对象 求损失函数的和，则计算过程需要花费较长的时间\n",
    "\n",
    "我们从全部数据中选出一部分，作为全部数据的近似。神经网络的学习也是从训练数据中选出一批数据（称为 mini-batch, 小 批量），然后对每个 mini-batch 进行学习"
   ]
  },
  {
   "cell_type": "code",
   "execution_count": 3,
   "id": "96152095",
   "metadata": {},
   "outputs": [],
   "source": [
    "(x_train, t_train), (x_test, t_test) = \\\n",
    "load_mnist(normalize=True, one_hot_label=True)\n",
    "\n",
    "train_size = x_train.shape[0]\n",
    "batch_size = 10\n",
    "batch_mask = np.random.choice(train_size, batch_size)\n",
    "x_batch = x_train[batch_mask]\n",
    "t_batch = t_train[batch_mask]"
   ]
  },
  {
   "cell_type": "markdown",
   "id": "5e385417",
   "metadata": {},
   "source": [
    "# 梯度的计算\n"
   ]
  },
  {
   "cell_type": "code",
   "execution_count": 4,
   "id": "18090e81",
   "metadata": {},
   "outputs": [],
   "source": [
    "def numerical_gradient(f, x):\n",
    "    h = 1e-4\n",
    "    grad = np.zeros_like(x)\n",
    "    \n",
    "    for idx in range(x.size):\n",
    "        tmp_val = x[idx]\n",
    "        # x[idx]逐个求偏导\n",
    "        #f(x+h)\n",
    "        x[idx] = tmp_val + h\n",
    "        fxh1 = f(x)\n",
    "        #(fx-h)\n",
    "        x[idx] = tmp_val - h\n",
    "        fxh2 = f(x)\n",
    "        \n",
    "        grad[idx] = (fxh1-fxh2) / 2*h\n",
    "        x[idx] = tmp_val\n",
    "        \n",
    "    return grad"
   ]
  },
  {
   "cell_type": "code",
   "execution_count": 5,
   "id": "2cc4e81e",
   "metadata": {},
   "outputs": [
    {
     "data": {
      "text/plain": [
       "array([6.e-08, 0.e+00])"
      ]
     },
     "execution_count": 5,
     "metadata": {},
     "output_type": "execute_result"
    }
   ],
   "source": [
    "def function_2(x):\n",
    "    # x[0]**2 + x[1]**2\n",
    "    return np.sum(x**2)\n",
    "\n",
    "numerical_gradient(function_2, np.array([3.0,0.0]))"
   ]
  },
  {
   "cell_type": "markdown",
   "id": "195fb788",
   "metadata": {},
   "source": [
    "# 梯度下降"
   ]
  },
  {
   "cell_type": "code",
   "execution_count": 6,
   "id": "a8072a73",
   "metadata": {},
   "outputs": [],
   "source": [
    "def gradient_descent(f, init_x, lr=0.01, step_num=100):\n",
    "    x = init_x\n",
    "    \n",
    "    for i in range(step_num):\n",
    "        grad =  numerical_gradient(f, x)\n",
    "        x -= lr * grad\n",
    "        \n",
    "    return x"
   ]
  },
  {
   "cell_type": "code",
   "execution_count": 7,
   "id": "9bdcb478",
   "metadata": {},
   "outputs": [
    {
     "data": {
      "text/plain": [
       "array([-2.99999994,  3.99999992])"
      ]
     },
     "execution_count": 7,
     "metadata": {},
     "output_type": "execute_result"
    }
   ],
   "source": [
    "init_x = np.array([-3.0, 4.0])\n",
    "gradient_descent(function_2, init_x)"
   ]
  },
  {
   "cell_type": "markdown",
   "id": "670d10b7",
   "metadata": {},
   "source": [
    "# 利用梯度下降更新参数"
   ]
  },
  {
   "cell_type": "code",
   "execution_count": 8,
   "id": "2221a5e7",
   "metadata": {},
   "outputs": [],
   "source": [
    "class simpleNet: \n",
    "    def __init__(self): \n",
    "        self.W = np.random.randn(2,3) # 用高斯分布进行初始化 \n",
    "        \n",
    "    def forward(self, x): \n",
    "        return np.dot(x, self.W) \n",
    "    \n",
    "    def loss(self, x, t): \n",
    "        z = self.forward(x) \n",
    "        y = softmax(z) \n",
    "        loss = cross_entropy_error(y, t) \n",
    "        return loss"
   ]
  },
  {
   "cell_type": "code",
   "execution_count": 9,
   "id": "8d0b5400",
   "metadata": {},
   "outputs": [
    {
     "name": "stdout",
     "output_type": "stream",
     "text": [
      "[[ 0.5000227   2.04419071  0.37229533]\n",
      " [-0.18373586 -1.35679891 -0.33304462]]\n",
      "[ 0.13465134  0.0053954  -0.07636295]\n"
     ]
    },
    {
     "data": {
      "text/plain": [
       "1.2000016679819552"
      ]
     },
     "execution_count": 9,
     "metadata": {},
     "output_type": "execute_result"
    }
   ],
   "source": [
    "net = simpleNet()\n",
    "print(net.W)\n",
    "x = np.array([0.6, 0.9])\n",
    "p = net.forward(x)\n",
    "print(p)\n",
    "t = np.array([0, 0, 1])\n",
    "net.loss(x, t)"
   ]
  },
  {
   "cell_type": "code",
   "execution_count": null,
   "id": "6539cce8",
   "metadata": {},
   "outputs": [],
   "source": []
  }
 ],
 "metadata": {
  "kernelspec": {
   "display_name": "Python 3 (ipykernel)",
   "language": "python",
   "name": "python3"
  },
  "language_info": {
   "codemirror_mode": {
    "name": "ipython",
    "version": 3
   },
   "file_extension": ".py",
   "mimetype": "text/x-python",
   "name": "python",
   "nbconvert_exporter": "python",
   "pygments_lexer": "ipython3",
   "version": "3.11.5"
  }
 },
 "nbformat": 4,
 "nbformat_minor": 5
}
