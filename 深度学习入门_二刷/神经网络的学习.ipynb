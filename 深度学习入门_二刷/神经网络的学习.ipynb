{
 "cells": [
  {
   "cell_type": "code",
   "execution_count": 4,
   "id": "6a666b74",
   "metadata": {},
   "outputs": [],
   "source": [
    "import numpy as np\n",
    "from dataset.mnist import load_mnist"
   ]
  },
  {
   "cell_type": "markdown",
   "id": "d58fc2fb",
   "metadata": {},
   "source": [
    "# 交叉熵误差\n",
    "$E=-\\Sigma t_k log(y_K)$"
   ]
  },
  {
   "cell_type": "code",
   "execution_count": 3,
   "id": "86134820",
   "metadata": {},
   "outputs": [],
   "source": [
    "def cross_entropy_error(y, t):\n",
    "    delta = 1e-7 # 保护机制, 防止log0\n",
    "    if y.dim == 1:\n",
    "        t = t.reshape(1, t.size)\n",
    "        y = y.reshape(1, y.size)\n",
    "        \n",
    "    #这里reshape的作用是计算单个数据使得batch_size=1\n",
    "    batch_size = y.shape[0]\n",
    "    return -np.sum(t*np.log(y + delta))/batch_size"
   ]
  },
  {
   "cell_type": "markdown",
   "id": "3d85df5e",
   "metadata": {},
   "source": [
    "# mini-batch\n",
    "\n",
    "使用训练数据进行学习，严格来说， 就是针对训练数据计算损失函数的值，找出使该值尽可能小的参数\n",
    "\n",
    "如果以全部数据为对象 求损失函数的和，则计算过程需要花费较长的时间\n",
    "\n",
    "我们从全部数据中选出一部分，作为全部数据的近似。神经网络的学习也是从训练数据中选出一批数据（称为 mini-batch, 小 批量），然后对每个 mini-batch 进行学习"
   ]
  },
  {
   "cell_type": "code",
   "execution_count": 7,
   "id": "96152095",
   "metadata": {},
   "outputs": [],
   "source": [
    "(x_train, t_train), (x_test, t_test) = \\\n",
    "load_mnist(normalize=True, one_hot_label=True)\n",
    "\n",
    "train_size = x_train.shape[0]\n",
    "batch_size = 10\n",
    "batch_mask = np.random.choice(train_size, batch_size)\n",
    "x_batch = x_train[batch_mask]\n",
    "t_batch = t_train[batch_mask]"
   ]
  }
 ],
 "metadata": {
  "kernelspec": {
   "display_name": "Python 3 (ipykernel)",
   "language": "python",
   "name": "python3"
  },
  "language_info": {
   "codemirror_mode": {
    "name": "ipython",
    "version": 3
   },
   "file_extension": ".py",
   "mimetype": "text/x-python",
   "name": "python",
   "nbconvert_exporter": "python",
   "pygments_lexer": "ipython3",
   "version": "3.11.5"
  }
 },
 "nbformat": 4,
 "nbformat_minor": 5
}
