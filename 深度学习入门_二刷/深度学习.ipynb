{
 "cells": [
  {
   "cell_type": "code",
   "execution_count": 1,
   "id": "93c047da",
   "metadata": {},
   "source": [
    "import numpy as np\n",
    "import typing\n",
    "import matplotlib.pylab as plt"
   ],
   "outputs": []
  },
  {
   "cell_type": "code",
   "execution_count": 2,
   "id": "3f6a6607",
   "metadata": {},
   "source": [
    "def plot_func(func, ylim=True):\n",
    "    x = np.arange(-5.0, 5.0, 0.1)\n",
    "    y = func(x)\n",
    "    plt.plot(x, y)\n",
    "    if ylim:\n",
    "        plt.ylim(-0.1, 1.1, emit=False)\n",
    "        plt.show()\n",
    "    else:\n",
    "        plt.show()"
   ],
   "outputs": []
  },
  {
   "cell_type": "markdown",
   "id": "16fea152",
   "metadata": {},
   "source": [
    "# 阶跃函数\n",
    "$u(t)=\\epsilon(t)=\\begin{cases}0,&t<0\\\\1,&t>0\\end{cases}$"
   ]
  },
  {
   "cell_type": "code",
   "execution_count": 3,
   "id": "4ee45ce6",
   "metadata": {},
   "source": [
    "#类型提示\n",
    "def step_function(x:np.ndarray):\n",
    "    #进行不等式运算, y是一个布尔类型数组\n",
    "    y = x > 0\n",
    "    return np.array(x > 0, dtype = int)\n",
    "\n",
    "plot_func(step_function)"
   ],
   "outputs": []
  },
  {
   "cell_type": "markdown",
   "id": "ce99a536",
   "metadata": {},
   "source": [
    "# sigmoid 函数\n",
    "$f(t) = {1\\over{1+e^{-x}}}$"
   ]
  },
  {
   "cell_type": "code",
   "execution_count": 4,
   "id": "67080f47",
   "metadata": {},
   "source": [
    "def sigmoid(x):\n",
    "    return 1/(1 + np.exp(-x))\n",
    "\n",
    "plot_func(sigmoid)"
   ],
   "outputs": []
  },
  {
   "cell_type": "markdown",
   "id": "59174fb0",
   "metadata": {},
   "source": [
    "# ReLU函数(Rectified Linear Unit)\n",
    "$u(t)=\\begin{cases}t,&t>0\\\\0,&t\\leq 0\\end{cases}$"
   ]
  },
  {
   "cell_type": "code",
   "execution_count": 5,
   "id": "8ee05a7f",
   "metadata": {},
   "source": [
    "def ReLU(x):\n",
    "    return np.maximum(0, x)\n",
    "\n",
    "plot_func(ReLU,ylim = False)"
   ],
   "outputs": []
  },
  {
   "cell_type": "code",
   "execution_count": 6,
   "id": "d2011868",
   "metadata": {},
   "source": [
    "def identity_function(X):\n",
    "    return X"
   ],
   "outputs": []
  },
  {
   "cell_type": "markdown",
   "id": "e789f502",
   "metadata": {},
   "source": [
    "# 简单神经网络的实现\n",
    "<img src=\"https://picstore-of-ambi.oss-cn-shanghai.aliyuncs.com/img/20240503002947.png\" alt=\"image.png\" style=\"float: left;\">"
   ]
  },
  {
   "cell_type": "code",
   "execution_count": 7,
   "id": "e82dd746",
   "metadata": {},
   "source": [
    "class Layer:\n",
    "    def __init__(self, W, B):\n",
    "        # X.size = input_size\n",
    "        # W.size = nextlayer.size\n",
    "        # B.size = nextlayer.szie\n",
    "        self.W = W\n",
    "        self.B = B\n",
    "\n",
    "    def forward(self, X):\n",
    "        return np.dot(X, self.W) + self.B\n",
    "    \n",
    "    def __call__(self, X):\n",
    "        return self.forward(X)\n",
    "\n",
    "class Network:\n",
    "    def __init__(self):\n",
    "        self.W1 = np.array([[0.1, 0.3, 0.5], [0.2, 0.4, 0.6]]) \n",
    "        self.B1 = np.array([0.1, 0.2, 0.3])\n",
    "        self.W2 = np.array([[0.1, 0.4], [0.2, 0.5], [0.3, 0.6]])\n",
    "        self.B2 = np.array([0.1, 0.2])\n",
    "        self.layer1 = Layer(self.W1, self.B1)\n",
    "        self.layer2 = Layer(self.W2, self.B2)\n",
    "    \n",
    "    def forward(self, X):\n",
    "        X1 = sigmoid(self.layer1(X))\n",
    "        X2 = sigmoid(self.layer2(X1))\n",
    "        return identity_function(X2)\n",
    "\n",
    "    def __call__(self, X):\n",
    "        return self.forward(X)\n",
    "    \n",
    "X = np.array([1.0, 0.5]) \n",
    "net = Network()\n",
    "output = net(X)\n",
    "print(output)"
   ],
   "outputs": []
  },
  {
   "cell_type": "code",
   "execution_count": 8,
   "id": "cbe53134",
   "metadata": {},
   "source": [
    "def softmax(X):\n",
    "    C = np.max(X)\n",
    "    exp_a = np.exp(X - C) #防止溢出\n",
    "    sum_exp_a = np.sum(exp_a)\n",
    "    \n",
    "    return exp_a / sum_exp_a"
   ],
   "outputs": []
  },
  {
   "cell_type": "markdown",
   "id": "9a80f2bb",
   "metadata": {},
   "source": [
    "# MNIST简单实战\n"
   ]
  },
  {
   "cell_type": "code",
   "execution_count": 9,
   "id": "2892e0f0",
   "metadata": {},
   "source": [
    "# 读入数据\n",
    "import sys, os\n",
    "from dataset.mnist import load_mnist\n",
    "from PIL import Image\n",
    "\n",
    "(x_train, t_train), (x_test, t_test) = load_mnist(flatten=True, normalize=False)\n",
    "\n",
    "# 输出各个数据的形状 \n",
    "print(x_train.shape) # (60000, 784)\n",
    "print(t_train.shape) # (60000,) \n",
    "print(x_test.shape) # (10000, 784) \n",
    "print(t_test.shape) # (10000,) \n",
    "\n",
    "img = x_train[0].reshape(28,28) # 图像原来为28*28\n",
    "label = t_train[0]\n",
    "print(label)\n",
    "\n",
    "def img_show(img):\n",
    "    pil_img = Image.fromarray(np.uint8(img))\n",
    "    pil_img.show()\n",
    "\n",
    "img_show(img)"
   ],
   "outputs": []
  },
  {
   "cell_type": "markdown",
   "id": "403fdb01",
   "metadata": {},
   "source": [
    "<img src=\"https://picstore-of-ambi.oss-cn-shanghai.aliyuncs.com/img/20240503141242.png\" alt=\"image.png\" style=\"float: left;\">"
   ]
  },
  {
   "cell_type": "code",
   "execution_count": 12,
   "id": "b7caff78",
   "metadata": {},
   "source": [
    "import pickle\n",
    "\n",
    "with open(r\"./utils/sample_weight.pkl\", \"rb\") as f:\n",
    "    weight = pickle.load(f)\n",
    "\n",
    "\n",
    "class MNIST_Network():\n",
    "    def __init__(self):\n",
    "        self.W1, self.W2, self.W3 = weight['W1'], weight['W2'], weight['W3']\n",
    "        self.b1, self.b2, self.b3 = weight['b1'], weight['b2'], weight['b3']\n",
    "        self.layer1 = Layer(self.W1, self.b1)\n",
    "        self.layer2 = Layer(self.W2, self.b2)\n",
    "        self.layer3 = Layer(self.W3, self.b3)\n",
    "\n",
    "    def forward(self, X):\n",
    "        X1 = self.layer1(X)\n",
    "        X2 = self.layer2(X1)\n",
    "        X3 = self.layer3(X2)\n",
    "        return softmax(X3)\n",
    "\n",
    "    def __call__(self, X):\n",
    "        return self.forward(X)\n",
    "\n",
    "\n",
    "batch_size = 100\n",
    "accuracy_cnt = 0\n",
    "net = MNIST_Network()\n",
    "for i in range(0, len(x_test), batch_size):\n",
    "    x_batch = x_test[i:i + batch_size]\n",
    "    y_batch = net(x_batch)\n",
    "    p = np.argmax(y_batch, axis=1)\n",
    "    accuracy_cnt += np.sum(p == t_test[i:i + batch_size])\n",
    "\n",
    "print(\"Accuracy: \" + str(float(accuracy_cnt / len(x_test))))"
   ],
   "outputs": []
  }
 ],
 "metadata": {
  "kernelspec": {
   "display_name": "Python 3 (ipykernel)",
   "language": "python",
   "name": "python3"
  },
  "language_info": {
   "codemirror_mode": {
    "name": "ipython",
    "version": 3
   },
   "file_extension": ".py",
   "mimetype": "text/x-python",
   "name": "python",
   "nbconvert_exporter": "python",
   "pygments_lexer": "ipython3",
   "version": "3.11.5"
  }
 },
 "nbformat": 4,
 "nbformat_minor": 5
}
